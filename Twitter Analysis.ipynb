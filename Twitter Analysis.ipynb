{
 "cells": [
  {
   "cell_type": "code",
   "execution_count": 1,
   "metadata": {
    "collapsed": false
   },
   "outputs": [
    {
     "name": "stderr",
     "output_type": "stream",
     "text": [
      "/Users/lheinle/anaconda/lib/python3.5/site-packages/sklearn/cross_validation.py:44: DeprecationWarning: This module was deprecated in version 0.18 in favor of the model_selection module into which all the refactored classes and functions are moved. Also note that the interface of the new CV iterators are different from that of this module. This module will be removed in 0.20.\n",
      "  \"This module will be removed in 0.20.\", DeprecationWarning)\n"
     ]
    }
   ],
   "source": [
    "import math  \n",
    "import pandas as pd  \n",
    "import numpy as np  \n",
    "import requests  \n",
    "import json\n",
    "import sklearn\n",
    "import nltk\n",
    "import re\n",
    "\n",
    "from nltk.corpus import stopwords\n",
    "from sklearn.feature_extraction.text import TfidfVectorizer\n",
    "\n",
    "from sklearn.naive_bayes import MultinomialNB\n",
    "from sklearn.ensemble import RandomForestClassifier\n",
    "from sklearn.svm import LinearSVC\n",
    "\n",
    "from sklearn import tree\n",
    "from sklearn.decomposition import TruncatedSVD\n",
    "from sklearn.feature_selection import chi2\n",
    "\n",
    "from sklearn.preprocessing import Normalizer\n",
    "from sklearn.pipeline import make_pipeline\n",
    "\n",
    "from sklearn.feature_selection import SelectFromModel\n",
    "from sklearn.feature_selection import SelectKBest\n",
    "\n",
    "from sklearn.cross_validation import StratifiedKFold\n",
    "from sklearn.metrics import precision_recall_fscore_support"
   ]
  },
  {
   "cell_type": "markdown",
   "metadata": {
    "collapsed": true
   },
   "source": [
    "Let's grab the tweets"
   ]
  },
  {
   "cell_type": "code",
   "execution_count": 7,
   "metadata": {
    "collapsed": false
   },
   "outputs": [
    {
     "ename": "ImportError",
     "evalue": "No module named 'twitter'",
     "output_type": "error",
     "traceback": [
      "\u001b[0;31m---------------------------------------------------------------------------\u001b[0m",
      "\u001b[0;31mImportError\u001b[0m                               Traceback (most recent call last)",
      "\u001b[0;32m<ipython-input-7-07a4caa0d808>\u001b[0m in \u001b[0;36m<module>\u001b[0;34m()\u001b[0m\n\u001b[1;32m      1\u001b[0m \u001b[0;32mimport\u001b[0m \u001b[0mos\u001b[0m\u001b[0;34m\u001b[0m\u001b[0m\n\u001b[0;32m----> 2\u001b[0;31m \u001b[0;32mimport\u001b[0m \u001b[0mtwitter\u001b[0m\u001b[0;34m\u001b[0m\u001b[0m\n\u001b[0m",
      "\u001b[0;31mImportError\u001b[0m: No module named 'twitter'"
     ]
    }
   ],
   "source": [
    "import os\n",
    "import twitter"
   ]
  },
  {
   "cell_type": "code",
   "execution_count": 9,
   "metadata": {
    "collapsed": false
   },
   "outputs": [],
   "source": [
    "twitter_key = os.environ.get('TWITTER_CONSUMER_KEY')\n",
    "twitter_secret = os.environ.get('TWITTER_CONSUMER_SECRET')\n",
    "twitter_token = os.environ.get('TWITTER_ACCESS_TOKEN')\n",
    "twitter_token_secret = os.environ.get('TWITTER_ACCESS_TOKEN_SECRET')"
   ]
  },
  {
   "cell_type": "code",
   "execution_count": 11,
   "metadata": {
    "collapsed": true
   },
   "outputs": [],
   "source": [
    "api = twitter.Api(consumer_key=twitter_key,\n",
    "                  consumer_secret=twitter_secret,\n",
    "                  access_token_key=twitter_token,\n",
    "                  access_token_secret=twitter_token_secret)"
   ]
  },
  {
   "cell_type": "code",
   "execution_count": 16,
   "metadata": {
    "collapsed": false
   },
   "outputs": [
    {
     "name": "stdout",
     "output_type": "stream",
     "text": [
      "{\"created_at\": \"Sat Sep 15 22:12:06 +0000 2012\", \"description\": \"Data viz @TheBuffaloNews | @UNL_CoJMC grad with interests in coffee, coding & data journalism | Former @OWHNews fellow, #WebDesign intern @Nelnet\", \"favourites_count\": 1420, \"followers_count\": 509, \"friends_count\": 1190, \"geo_enabled\": true, \"id\": 826036134, \"lang\": \"en\", \"listed_count\": 29, \"location\": \"Buffalo, NY\", \"name\": \"Lexie Heinle \\ud83d\\udc69\\ud83c\\udffd\\u200d\\ud83d\\udcbb\", \"profile_background_color\": \"313278\", \"profile_background_image_url\": \"http://pbs.twimg.com/profile_background_images/570057266628280320/z1YQD5bg.jpeg\", \"profile_banner_url\": \"https://pbs.twimg.com/profile_banners/826036134/1465071239\", \"profile_image_url\": \"http://pbs.twimg.com/profile_images/659729207317041152/BPMXIPph_normal.jpg\", \"profile_link_color\": \"6DBDB3\", \"profile_sidebar_fill_color\": \"FA0A6A\", \"profile_text_color\": \"FA7550\", \"screen_name\": \"lexieheinle\", \"status\": {\"created_at\": \"Wed Jun 28 21:27:33 +0000 2017\", \"id\": 880175861873471488, \"id_str\": \"880175861873471488\", \"lang\": \"en\", \"quoted_status_id\": 880060215164641281, \"quoted_status_id_str\": \"880060215164641281\", \"retweet_count\": 24, \"retweeted\": true, \"retweeted_status\": {\"created_at\": \"Wed Jun 28 14:55:38 +0000 2017\", \"favorite_count\": 50, \"id\": 880077233804779521, \"id_str\": \"880077233804779521\", \"lang\": \"en\", \"quoted_status_id\": 880060215164641281, \"quoted_status_id_str\": \"880060215164641281\", \"retweet_count\": 24, \"retweeted\": true, \"source\": \"<a href=\\\"http://twitter.com/download/iphone\\\" rel=\\\"nofollow\\\">Twitter for iPhone</a>\", \"text\": \"If you read one story today, this @dirkchatelain story of teen love and loss should be it. https://t.co/gEOLE3hdKd\"}, \"source\": \"<a href=\\\"http://twitter.com/download/android\\\" rel=\\\"nofollow\\\">Twitter for Android</a>\", \"text\": \"RT @redcloud_scribe: If you read one story today, this @dirkchatelain story of teen love and loss should be it. https://t.co/gEOLE3hdKd\"}, \"statuses_count\": 2818, \"time_zone\": \"Eastern Time (US & Canada)\", \"url\": \"https://t.co/Sgj69xEIFt\", \"utc_offset\": -14400}\n"
     ]
    }
   ],
   "source": [
    "print(api.VerifyCredentials())"
   ]
  },
  {
   "cell_type": "code",
   "execution_count": 21,
   "metadata": {
    "collapsed": false
   },
   "outputs": [
    {
     "name": "stdout",
     "output_type": "stream",
     "text": [
      "131\n"
     ]
    }
   ],
   "source": [
    "print(len())\n"
   ]
  },
  {
   "cell_type": "code",
   "execution_count": 25,
   "metadata": {
    "collapsed": false
   },
   "outputs": [
    {
     "name": "stdout",
     "output_type": "stream",
     "text": [
      "{\"created_at\": \"Sat Jun 17 00:14:09 +0000 2017\", \"hashtags\": [{\"text\": \"attjukebox\"}], \"id\": 875869134302720000, \"id_str\": \"875869134302720000\", \"in_reply_to_screen_name\": \"buffalobison\", \"in_reply_to_user_id\": 62187116, \"lang\": \"es\", \"place\": {\"attributes\": {}, \"bounding_box\": {\"coordinates\": [[[-78.912276, 42.826008], [-78.79485, 42.826008], [-78.79485, 42.966451], [-78.912276, 42.966451]]], \"type\": \"Polygon\"}, \"contained_within\": [], \"country\": \"United States\", \"country_code\": \"US\", \"full_name\": \"Buffalo, NY\", \"id\": \"a307591cd0413588\", \"name\": \"Buffalo\", \"place_type\": \"city\", \"url\": \"https://api.twitter.com/1.1/geo/id/a307591cd0413588.json\"}, \"source\": \"<a href=\\\"http://twitter.com/download/android\\\" rel=\\\"nofollow\\\">Twitter for Android</a>\", \"text\": \"@buffalobison Despacito #attjukebox\", \"urls\": [], \"user\": {\"id\": 826036134}, \"user_mentions\": [{\"id\": 62187116, \"name\": \"Jon Turner\", \"screen_name\": \"buffalobison\"}]}\n",
      "131\n"
     ]
    }
   ],
   "source": [
    "tweets=api.GetUserTimeline('826036134', include_rts=False, count=200, trim_user=True)\n",
    "print(tweets[0])\n",
    "print(len(tweets))"
   ]
  },
  {
   "cell_type": "code",
   "execution_count": 45,
   "metadata": {
    "collapsed": false,
    "scrolled": true
   },
   "outputs": [],
   "source": [
    "cleaner_tweets = []\n",
    "for tweet in tweets:\n",
    "    cleaner_tweets.append({'id': tweet.id, 'text': tweet.text, 'created_at': tweet.created_at})\n",
    "    \n",
    "df = pd.DataFrame(cleaner_tweets)"
   ]
  },
  {
   "cell_type": "code",
   "execution_count": 53,
   "metadata": {
    "collapsed": false
   },
   "outputs": [
    {
     "data": {
      "text/html": [
       "<div>\n",
       "<style>\n",
       "    .dataframe thead tr:only-child th {\n",
       "        text-align: right;\n",
       "    }\n",
       "\n",
       "    .dataframe thead th {\n",
       "        text-align: left;\n",
       "    }\n",
       "\n",
       "    .dataframe tbody tr th {\n",
       "        vertical-align: top;\n",
       "    }\n",
       "</style>\n",
       "<table border=\"1\" class=\"dataframe\">\n",
       "  <thead>\n",
       "    <tr style=\"text-align: right;\">\n",
       "      <th></th>\n",
       "      <th>created_at</th>\n",
       "      <th>id</th>\n",
       "      <th>text</th>\n",
       "    </tr>\n",
       "  </thead>\n",
       "  <tbody>\n",
       "    <tr>\n",
       "      <th>0</th>\n",
       "      <td>Sat Jun 17 00:14:09 +0000 2017</td>\n",
       "      <td>875869134302720000</td>\n",
       "      <td>@buffalobison Despacito #attjukebox</td>\n",
       "    </tr>\n",
       "    <tr>\n",
       "      <th>1</th>\n",
       "      <td>Thu Jun 15 23:47:05 +0000 2017</td>\n",
       "      <td>875499936590303232</td>\n",
       "      <td>@tackjhompson I may be absurdly proud of my ti...</td>\n",
       "    </tr>\n",
       "    <tr>\n",
       "      <th>2</th>\n",
       "      <td>Thu Jun 15 23:01:56 +0000 2017</td>\n",
       "      <td>875488575726530561</td>\n",
       "      <td>Colorful crowd at the #CorporateChallenge http...</td>\n",
       "    </tr>\n",
       "    <tr>\n",
       "      <th>3</th>\n",
       "      <td>Thu Jun 15 14:26:34 +0000 2017</td>\n",
       "      <td>875358879512748032</td>\n",
       "      <td>Will I nerd out about one of my favorite proje...</td>\n",
       "    </tr>\n",
       "    <tr>\n",
       "      <th>4</th>\n",
       "      <td>Mon Jun 12 16:05:02 +0000 2017</td>\n",
       "      <td>874296493729099778</td>\n",
       "      <td>Ditto... https://t.co/VMuYoS0ujL</td>\n",
       "    </tr>\n",
       "  </tbody>\n",
       "</table>\n",
       "</div>"
      ],
      "text/plain": [
       "                       created_at                  id  \\\n",
       "0  Sat Jun 17 00:14:09 +0000 2017  875869134302720000   \n",
       "1  Thu Jun 15 23:47:05 +0000 2017  875499936590303232   \n",
       "2  Thu Jun 15 23:01:56 +0000 2017  875488575726530561   \n",
       "3  Thu Jun 15 14:26:34 +0000 2017  875358879512748032   \n",
       "4  Mon Jun 12 16:05:02 +0000 2017  874296493729099778   \n",
       "\n",
       "                                                text  \n",
       "0                @buffalobison Despacito #attjukebox  \n",
       "1  @tackjhompson I may be absurdly proud of my ti...  \n",
       "2  Colorful crowd at the #CorporateChallenge http...  \n",
       "3  Will I nerd out about one of my favorite proje...  \n",
       "4                   Ditto... https://t.co/VMuYoS0ujL  "
      ]
     },
     "execution_count": 53,
     "metadata": {},
     "output_type": "execute_result"
    }
   ],
   "source": [
    "df.head()"
   ]
  },
  {
   "cell_type": "code",
   "execution_count": 54,
   "metadata": {
    "collapsed": false
   },
   "outputs": [],
   "source": [
    "from datetime import datetime\n",
    "df['created_at'] = df['created_at'].apply(lambda x: datetime.strptime(x , \"%a %b %d %H:%M:%S %z %Y\"))"
   ]
  },
  {
   "cell_type": "code",
   "execution_count": 55,
   "metadata": {
    "collapsed": false
   },
   "outputs": [
    {
     "data": {
      "text/html": [
       "<div>\n",
       "<style>\n",
       "    .dataframe thead tr:only-child th {\n",
       "        text-align: right;\n",
       "    }\n",
       "\n",
       "    .dataframe thead th {\n",
       "        text-align: left;\n",
       "    }\n",
       "\n",
       "    .dataframe tbody tr th {\n",
       "        vertical-align: top;\n",
       "    }\n",
       "</style>\n",
       "<table border=\"1\" class=\"dataframe\">\n",
       "  <thead>\n",
       "    <tr style=\"text-align: right;\">\n",
       "      <th></th>\n",
       "      <th>created_at</th>\n",
       "      <th>id</th>\n",
       "      <th>text</th>\n",
       "    </tr>\n",
       "  </thead>\n",
       "  <tbody>\n",
       "    <tr>\n",
       "      <th>0</th>\n",
       "      <td>2017-06-17 00:14:09+00:00</td>\n",
       "      <td>875869134302720000</td>\n",
       "      <td>@buffalobison Despacito #attjukebox</td>\n",
       "    </tr>\n",
       "    <tr>\n",
       "      <th>1</th>\n",
       "      <td>2017-06-15 23:47:05+00:00</td>\n",
       "      <td>875499936590303232</td>\n",
       "      <td>@tackjhompson I may be absurdly proud of my ti...</td>\n",
       "    </tr>\n",
       "    <tr>\n",
       "      <th>2</th>\n",
       "      <td>2017-06-15 23:01:56+00:00</td>\n",
       "      <td>875488575726530561</td>\n",
       "      <td>Colorful crowd at the #CorporateChallenge http...</td>\n",
       "    </tr>\n",
       "    <tr>\n",
       "      <th>3</th>\n",
       "      <td>2017-06-15 14:26:34+00:00</td>\n",
       "      <td>875358879512748032</td>\n",
       "      <td>Will I nerd out about one of my favorite proje...</td>\n",
       "    </tr>\n",
       "    <tr>\n",
       "      <th>4</th>\n",
       "      <td>2017-06-12 16:05:02+00:00</td>\n",
       "      <td>874296493729099778</td>\n",
       "      <td>Ditto... https://t.co/VMuYoS0ujL</td>\n",
       "    </tr>\n",
       "  </tbody>\n",
       "</table>\n",
       "</div>"
      ],
      "text/plain": [
       "                 created_at                  id  \\\n",
       "0 2017-06-17 00:14:09+00:00  875869134302720000   \n",
       "1 2017-06-15 23:47:05+00:00  875499936590303232   \n",
       "2 2017-06-15 23:01:56+00:00  875488575726530561   \n",
       "3 2017-06-15 14:26:34+00:00  875358879512748032   \n",
       "4 2017-06-12 16:05:02+00:00  874296493729099778   \n",
       "\n",
       "                                                text  \n",
       "0                @buffalobison Despacito #attjukebox  \n",
       "1  @tackjhompson I may be absurdly proud of my ti...  \n",
       "2  Colorful crowd at the #CorporateChallenge http...  \n",
       "3  Will I nerd out about one of my favorite proje...  \n",
       "4                   Ditto... https://t.co/VMuYoS0ujL  "
      ]
     },
     "execution_count": 55,
     "metadata": {},
     "output_type": "execute_result"
    }
   ],
   "source": [
    "df.head()"
   ]
  },
  {
   "cell_type": "code",
   "execution_count": 2,
   "metadata": {
    "collapsed": true
   },
   "outputs": [],
   "source": [
    "def preProcessing(titles):\n",
    "    num_titles = titles.size\n",
    "    clean_titles = []\n",
    "    stops = set(stopwords.words(\"english\"))\n",
    "    for i in xrange( 0, num_titles):\n",
    "        letters_only = re.sub(\"[^a-zA-Z]\", \" \", titles[i]) \n",
    "        words = titles[i].lower().split()\n",
    "        words = [w.lower() for w in words if not w in stops]  \n",
    "        clean_titles.append(\" \".join(words))\n",
    "    return clean_titles"
   ]
  },
  {
   "cell_type": "code",
   "execution_count": 3,
   "metadata": {
    "collapsed": false
   },
   "outputs": [
    {
     "ename": "NameError",
     "evalue": "name 'df' is not defined",
     "output_type": "error",
     "traceback": [
      "\u001b[0;31m---------------------------------------------------------------------------\u001b[0m",
      "\u001b[0;31mNameError\u001b[0m                                 Traceback (most recent call last)",
      "\u001b[0;32m<ipython-input-3-e2676f30acb7>\u001b[0m in \u001b[0;36m<module>\u001b[0;34m()\u001b[0m\n\u001b[0;32m----> 1\u001b[0;31m \u001b[0mdf\u001b[0m\u001b[0;34m[\u001b[0m\u001b[0;34m'clean_text'\u001b[0m\u001b[0;34m]\u001b[0m \u001b[0;34m=\u001b[0m \u001b[0mdf\u001b[0m\u001b[0;34m[\u001b[0m\u001b[0;34m'text'\u001b[0m\u001b[0;34m]\u001b[0m\u001b[0;34m.\u001b[0m\u001b[0mapply\u001b[0m\u001b[0;34m(\u001b[0m\u001b[0;32mlambda\u001b[0m \u001b[0mx\u001b[0m\u001b[0;34m:\u001b[0m \u001b[0mpreProcessing\u001b[0m\u001b[0;34m(\u001b[0m\u001b[0mx\u001b[0m\u001b[0;34m)\u001b[0m\u001b[0;34m)\u001b[0m\u001b[0;34m\u001b[0m\u001b[0m\n\u001b[0m",
      "\u001b[0;31mNameError\u001b[0m: name 'df' is not defined"
     ]
    }
   ],
   "source": [
    "df['clean_text'] = df['text'].apply(lambda x: preProcessing(x))"
   ]
  },
  {
   "cell_type": "code",
   "execution_count": null,
   "metadata": {
    "collapsed": true
   },
   "outputs": [],
   "source": []
  }
 ],
 "metadata": {
  "kernelspec": {
   "display_name": "Python 3",
   "language": "python",
   "name": "python3"
  },
  "language_info": {
   "codemirror_mode": {
    "name": "ipython",
    "version": 3
   },
   "file_extension": ".py",
   "mimetype": "text/x-python",
   "name": "python",
   "nbconvert_exporter": "python",
   "pygments_lexer": "ipython3",
   "version": "3.5.2"
  }
 },
 "nbformat": 4,
 "nbformat_minor": 0
}
